{
 "cells": [
  {
   "cell_type": "markdown",
   "id": "bc8463b7",
   "metadata": {},
   "source": [
    "# Student Management System\n"
   ]
  },
  {
   "cell_type": "markdown",
   "id": "72fbf782",
   "metadata": {},
   "source": [
    "Students login"
   ]
  },
  {
   "cell_type": "code",
   "execution_count": 3,
   "id": "127eb431",
   "metadata": {},
   "outputs": [
    {
     "name": "stdout",
     "output_type": "stream",
     "text": [
      "Enter the username: admin\n",
      "Enter the password: cndj\n",
      "Invalid Password\n"
     ]
    }
   ],
   "source": [
    "UserName = input('Enter the username: ')\n",
    "if UserName == \"admin\":\n",
    "    Password = input('Enter the password: ')\n",
    "    if Password == \"admin@123\":\n",
    "        print('Login Succesfully !')\n",
    "    else:\n",
    "        print('Invalid Password !')\n",
    "else:\n",
    "    print('Invalid Username !')"
   ]
  },
  {
   "cell_type": "markdown",
   "id": "77ad5fdd",
   "metadata": {},
   "source": [
    "Students Records"
   ]
  },
  {
   "cell_type": "markdown",
   "id": "7e0a13fd",
   "metadata": {},
   "source": [
    "1. Attendence Records"
   ]
  },
  {
   "cell_type": "code",
   "execution_count": 23,
   "id": "4fa9995b",
   "metadata": {},
   "outputs": [
    {
     "name": "stdout",
     "output_type": "stream",
     "text": [
      "Enter the attendence: 100\n",
      "Excellent Student and eligible for placement \n"
     ]
    }
   ],
   "source": [
    "Attendence = int(input('Enter the attendence: '))\n",
    "if Attendence == 100:\n",
    "    print('Excellent Student and eligible for placement ')\n",
    "elif Attendence >= 90 and Attendence < 100:\n",
    "    print('Very Good Student and eligible for placement')\n",
    "elif Attendence >= 80 and Attendence < 90:\n",
    "    print('Good Student and eligible for placement')\n",
    "elif Attendence >= 70 and Attendence < 80:\n",
    "    print('eligible for placement')\n",
    "elif Attendence >= 60 and Attendence < 70:\n",
    "    print('Average but not eligible for placement improve your attendence')\n",
    "else:\n",
    "    print('Not eligible for placement')"
   ]
  },
  {
   "cell_type": "markdown",
   "id": "379d64bd",
   "metadata": {},
   "source": [
    "2 . Test Marks"
   ]
  },
  {
   "cell_type": "code",
   "execution_count": 24,
   "id": "09e216c2",
   "metadata": {},
   "outputs": [
    {
     "name": "stdout",
     "output_type": "stream",
     "text": [
      "Enter the test Marks: 97\n",
      "Very Good marks in test\n"
     ]
    }
   ],
   "source": [
    "TestMarks = int(input('Enter the test Marks: '))\n",
    "if TestMarks >= 90 and TestMarks <= 100:\n",
    "    print('Very Good marks in test')\n",
    "elif TestMarks >= 80 and TestMarks < 90:\n",
    "    print('Good marks in test')\n",
    "else:\n",
    "    print('Improve your performance and reapper test again')"
   ]
  },
  {
   "cell_type": "markdown",
   "id": "1575b415",
   "metadata": {},
   "source": [
    "3. Exam Marks"
   ]
  },
  {
   "cell_type": "code",
   "execution_count": 25,
   "id": "340de2a7",
   "metadata": {},
   "outputs": [
    {
     "name": "stdout",
     "output_type": "stream",
     "text": [
      "Enter the exam marks: 96\n",
      "Distiction\n"
     ]
    }
   ],
   "source": [
    "ExamMarks = int(input('Enter the exam marks: '))\n",
    "if ExamMarks >= 90 and ExamMarks <= 100:\n",
    "    print('Distiction')\n",
    "elif ExamMarks >= 80 and ExamMarks < 90:\n",
    "    print('First Class')\n",
    "elif ExamMarks >= 70 and ExamMarks < 80:\n",
    "    print('Second Class')\n",
    "elif ExamMarks >= 60 and ExamMarks < 70:\n",
    "    print('Third Class')\n",
    "elif ExamMarks >= 50:\n",
    "    print('Pass')\n",
    "else:\n",
    "    print('Fail')\n",
    "    print('Improve your performance and reapper again')"
   ]
  },
  {
   "cell_type": "markdown",
   "id": "e278c8ce",
   "metadata": {},
   "source": [
    "4. Behaviour"
   ]
  },
  {
   "cell_type": "code",
   "execution_count": 26,
   "id": "6a9fca12",
   "metadata": {},
   "outputs": [
    {
     "name": "stdout",
     "output_type": "stream",
     "text": [
      "Enter the type of behaviour in the class: Good\n",
      "Its seem that good behaviour during the class\n"
     ]
    }
   ],
   "source": [
    "Behaviour = input('Enter the type of behaviour in the class: ')\n",
    "\n",
    "if Behaviour == \"Good\":\n",
    "    print('Its seem that good behaviour during the class')\n",
    "elif Behaviour == \"Bad\":\n",
    "    print('Its seem that bad behaviour during the class')\n",
    "else:\n",
    "    print('Invalid Behaviour')\n",
    "    "
   ]
  },
  {
   "cell_type": "markdown",
   "id": "59c1cad3",
   "metadata": {},
   "source": [
    "Students of The Year Award"
   ]
  },
  {
   "cell_type": "code",
   "execution_count": 28,
   "id": "0e8e5957",
   "metadata": {},
   "outputs": [
    {
     "name": "stdout",
     "output_type": "stream",
     "text": [
      "Students of The Year Award !\n"
     ]
    }
   ],
   "source": [
    "\n",
    "if Attendence == 100 and TestMarks >= 90 and ExamMarks >= 90  and Behaviour == \"Good\":\n",
    "    print('Students of The Year Award !')\n",
    "\n",
    "else:\n",
    "    print('Not students of the year')"
   ]
  },
  {
   "cell_type": "code",
   "execution_count": null,
   "id": "bf99100b",
   "metadata": {},
   "outputs": [],
   "source": []
  }
 ],
 "metadata": {
  "kernelspec": {
   "display_name": "Python 3 (ipykernel)",
   "language": "python",
   "name": "python3"
  },
  "language_info": {
   "codemirror_mode": {
    "name": "ipython",
    "version": 3
   },
   "file_extension": ".py",
   "mimetype": "text/x-python",
   "name": "python",
   "nbconvert_exporter": "python",
   "pygments_lexer": "ipython3",
   "version": "3.10.12"
  }
 },
 "nbformat": 4,
 "nbformat_minor": 5
}
